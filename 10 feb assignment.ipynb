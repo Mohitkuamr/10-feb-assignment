{
 "cells": [
  {
   "cell_type": "code",
   "execution_count": null,
   "id": "d1ecc2fb-7e53-4919-82a1-c6e7d0eedc77",
   "metadata": {},
   "outputs": [],
   "source": [
    "Ans = 1\n",
    "\n",
    "1. read mode\n",
    "2. write mode\n",
    "3. append mode\n",
    "4. exclusive creation mode\n",
    "5. binary mode\n",
    "\n",
    "ex: write mode\n",
    "file = open(\"example.txt\", \"w\")\n",
    "file.write(\"Hello, world!\")\n",
    "\n",
    "ex: close\n",
    "file.close()\n"
   ]
  },
  {
   "cell_type": "code",
   "execution_count": null,
   "id": "0112ce44-9955-455a-8e40-12989ef10f6e",
   "metadata": {},
   "outputs": [],
   "source": [
    "Ans = 2\n",
    "1. frees up system resource\n",
    "2. writes any remaining data to the file\n",
    "3. prevents data corruption\n",
    "\n",
    "\n",
    "ex:\n",
    "file = open(\"example.txt\", \"w\")\n",
    "file.write(\"Hello, world!\")\n",
    "file.close()\n",
    "\n",
    "\n",
    "ex:\n",
    "with open(\"example.txt\", \"w\") as file:\n",
    "    file.write(\"Hello, world!\")\n",
    "    "
   ]
  },
  {
   "cell_type": "code",
   "execution_count": null,
   "id": "7e6c0eec-068a-4051-88de-0d4db65f7276",
   "metadata": {},
   "outputs": [],
   "source": [
    "Ans = 3\n",
    "# Open the file in write mode\n",
    "with open(\"data_scientist.txt\", \"w\") as file:\n",
    "    # Write the message to the file\n",
    "    file.write(\"I want to become a Data Scientist\")\n",
    "\n",
    "# Open the file in read mode\n",
    "with open(\"data_scientist.txt\", \"r\") as file:\n",
    "    # Read the content of the file\n",
    "    content = file.read()\n",
    "\n",
    "# Print the content of the file\n",
    "print(content)\n"
   ]
  },
  {
   "cell_type": "code",
   "execution_count": null,
   "id": "8ec62ce1-e25e-4875-86af-0bd0045f1f44",
   "metadata": {},
   "outputs": [],
   "source": [
    "Ans = 4\n",
    "1. read\n",
    "# Open a file in read mode\n",
    "file = open(\"example.txt\", \"r\")\n",
    "\n",
    "# Read the entire file\n",
    "content = file.read()\n",
    "\n",
    "# Close the file\n",
    "file.close()\n",
    "\n",
    "# Print the content of the file\n",
    "print(content)\n",
    "\n",
    "\n",
    "2. readline\n",
    "# Open a file in read mode\n",
    "file = open(\"example.txt\", \"r\")\n",
    "\n",
    "# Read the first line of the file\n",
    "line = file.readline()\n",
    "\n",
    "# Close the file\n",
    "file.close()\n",
    "\n",
    "# Print the first line of the file\n",
    "print(line)\n",
    "\n",
    "3. readlines\n",
    "# Open a file in read mode\n",
    "file = open(\"example.txt\", \"r\")\n",
    "\n",
    "# Read all the lines of the file\n",
    "lines = file.readlines()\n",
    "\n",
    "# Close the file\n",
    "file.close()\n",
    "\n",
    "# Print all the lines of the file\n",
    "for line in lines:\n",
    "    print(line)\n",
    "\n"
   ]
  },
  {
   "cell_type": "code",
   "execution_count": null,
   "id": "0c2548ba-cc4b-42ea-87f4-7d77cce71f08",
   "metadata": {},
   "outputs": [],
   "source": [
    "Ans = 5\n",
    "The with statement in Python is used with open() when working with files. It provides a way to ensure that a file is closed properly after it has been used. This is done by wrapping the code block that works with the file within a with statement, which automatically closes the file when the block is exited.\n",
    "\n",
    "ex:\n",
    "    "
   ]
  }
 ],
 "metadata": {
  "kernelspec": {
   "display_name": "Python 3 (ipykernel)",
   "language": "python",
   "name": "python3"
  },
  "language_info": {
   "codemirror_mode": {
    "name": "ipython",
    "version": 3
   },
   "file_extension": ".py",
   "mimetype": "text/x-python",
   "name": "python",
   "nbconvert_exporter": "python",
   "pygments_lexer": "ipython3",
   "version": "3.10.8"
  }
 },
 "nbformat": 4,
 "nbformat_minor": 5
}
